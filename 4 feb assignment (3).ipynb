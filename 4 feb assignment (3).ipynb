{
 "cells": [
  {
   "cell_type": "code",
   "execution_count": 9,
   "id": "6e554e39-d5f6-47ed-8c06-b4843792aee5",
   "metadata": {},
   "outputs": [
    {
     "name": "stdout",
     "output_type": "stream",
     "text": [
      "[('Virat Kohli', 24936), ('Jack Kallis', 25534), ('Ricky Ponting', 27483), ('Sachin Tendulkar', 34357)]\n"
     ]
    }
   ],
   "source": [
    "#1)\n",
    "from functools import reduce\n",
    "l=[('Sachin Tendulkar', 34357), ('Ricky Ponting', 27483), ('Jack Kallis', 25534), ('Virat Kohli', 24936)]\n",
    "b=lambda x,y:x if x<y else y\n",
    "d=dict(l)\n",
    "drev={}\n",
    "lruns=[]\n",
    "l1runs=[]\n",
    "for i in d.values():\n",
    "    lruns.append(i)\n",
    "for i in range(len(lruns)):\n",
    "    a=reduce(b,lruns)\n",
    "    l1runs.append(a)\n",
    "    lruns.remove(a)\n",
    "for i in l:\n",
    "    drev[i[1]]=i[0]\n",
    "d1={}\n",
    "for i in l1runs:\n",
    "    d1[i]=drev[i]\n",
    "\n",
    "d2={}\n",
    "for i in d1.values():\n",
    "    d2[i]=d[i]\n",
    "print(list(d2.items()))\n"
   ]
  },
  {
   "cell_type": "code",
   "execution_count": 3,
   "id": "098bf812-79fc-4791-891a-251a84895a0e",
   "metadata": {},
   "outputs": [
    {
     "name": "stdout",
     "output_type": "stream",
     "text": [
      "[1, 4, 9, 16, 25, 36, 49, 64, 81, 100]\n"
     ]
    }
   ],
   "source": [
    "#2)\n",
    "l=[1, 2, 3, 4, 5, 6, 7, 8, 9, 10]\n",
    "sq=lambda p:p**2\n",
    "print(list(map(sq,l)))"
   ]
  },
  {
   "cell_type": "code",
   "execution_count": 4,
   "id": "5524e241-5d5b-40f8-82a1-28ffa5d00a13",
   "metadata": {},
   "outputs": [
    {
     "name": "stdout",
     "output_type": "stream",
     "text": [
      "('1', '2', '3', '4', '5', '6', '7', '8', '9', '10')\n"
     ]
    }
   ],
   "source": [
    "#3)\n",
    "l= [1, 2, 3, 4, 5, 6, 7, 8, 9, 10]\n",
    "a=lambda x:str(x)\n",
    "print(tuple(map(a,l)))"
   ]
  },
  {
   "cell_type": "code",
   "execution_count": 5,
   "id": "08562879-221e-4a4e-a967-2353fd1c4a54",
   "metadata": {},
   "outputs": [
    {
     "name": "stdout",
     "output_type": "stream",
     "text": [
      "15511210043330985984000000\n"
     ]
    }
   ],
   "source": [
    "#4)\n",
    "from functools import reduce\n",
    "l=[]\n",
    "for i in range(1,26):\n",
    "    l.append(i)\n",
    "a=lambda x,y:x*y\n",
    "print(reduce(a,l))"
   ]
  },
  {
   "cell_type": "code",
   "execution_count": 6,
   "id": "0445e899-fb1b-4bc9-bb74-8cf8a3090c64",
   "metadata": {},
   "outputs": [
    {
     "name": "stdout",
     "output_type": "stream",
     "text": [
      "[6, 60, 90, 120]\n"
     ]
    }
   ],
   "source": [
    "#5)\n",
    "l=[2, 3, 6, 9, 27, 60, 90, 120, 55, 46]\n",
    "print(list(filter(lambda x:x%2==0 and x%3==0,l )))"
   ]
  },
  {
   "cell_type": "code",
   "execution_count": 7,
   "id": "0af69d3c-7483-41bb-97b4-1cdfa2878ade",
   "metadata": {},
   "outputs": [
    {
     "name": "stdout",
     "output_type": "stream",
     "text": [
      "['level', 'php', 'radar', 'aba']\n"
     ]
    }
   ],
   "source": [
    "#6)\n",
    "l=['python', 'php', 'aba', 'radar', 'level']\n",
    "rev=lambda s: s[::-1]\n",
    "l1=[]\n",
    "for i in l:\n",
    "    l1.append(rev(i))\n",
    "l+=l1\n",
    "print(list(set(filter(lambda x:x if l.count(x)==2 else None,l))))"
   ]
  },
  {
   "cell_type": "code",
   "execution_count": 8,
   "id": "24d675a8-6808-43c1-bec3-0695f96ae154",
   "metadata": {},
   "outputs": [
    {
     "data": {
      "text/plain": [
       "4"
      ]
     },
     "execution_count": 8,
     "metadata": {},
     "output_type": "execute_result"
    }
   ],
   "source": [
    "a=[1,2,3,4]\n",
    "b=lambda x:x**2\n",
    "b(2)"
   ]
  }
 ],
 "metadata": {
  "kernelspec": {
   "display_name": "Python 3 (ipykernel)",
   "language": "python",
   "name": "python3"
  },
  "language_info": {
   "codemirror_mode": {
    "name": "ipython",
    "version": 3
   },
   "file_extension": ".py",
   "mimetype": "text/x-python",
   "name": "python",
   "nbconvert_exporter": "python",
   "pygments_lexer": "ipython3",
   "version": "3.10.8"
  }
 },
 "nbformat": 4,
 "nbformat_minor": 5
}
